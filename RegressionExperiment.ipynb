{
 "cells": [
  {
   "cell_type": "code",
   "execution_count": 102,
   "metadata": {
    "collapsed": true
   },
   "outputs": [],
   "source": [
    "import requests\n",
    "housing_data = requests.get(\"https://www.csie.ntu.edu.tw/~cjlin/libsvmtools/datasets/regression/housing_scale\")"
   ]
  },
  {
   "cell_type": "code",
   "execution_count": 103,
   "metadata": {},
   "outputs": [
    {
     "data": {
      "text/plain": [
       "<Response [200]>"
      ]
     },
     "execution_count": 103,
     "metadata": {},
     "output_type": "execute_result"
    }
   ],
   "source": [
    "housing_data"
   ]
  },
  {
   "cell_type": "code",
   "execution_count": 104,
   "metadata": {
    "collapsed": true
   },
   "outputs": [],
   "source": [
    "from sklearn.datasets import load_svmlight_file\n",
    "from io import BytesIO\n",
    "x,y = load_svmlight_file(f=BytesIO(housing_data.content),n_features=13)\n",
    "x = x.data.reshape(x.shape)"
   ]
  },
  {
   "cell_type": "code",
   "execution_count": 105,
   "metadata": {},
   "outputs": [],
   "source": [
    "from sklearn.model_selection import train_test_split\n",
    "x_train, x_loss, y_train, y_loss = train_test_split(x, y, test_size=0.5)"
   ]
  },
  {
   "cell_type": "code",
   "execution_count": 106,
   "metadata": {},
   "outputs": [
    {
     "name": "stdout",
     "output_type": "stream",
     "text": [
      "(253, 13) <class 'numpy.ndarray'>\n"
     ]
    }
   ],
   "source": [
    "print(x_train.shape,type(x_train))"
   ]
  },
  {
   "cell_type": "code",
   "execution_count": 107,
   "metadata": {},
   "outputs": [],
   "source": [
    "import numpy as np\n",
    "m, n = x_train.shape # m = training sample, n = total no of feature\n",
    "x_train = np.concatenate((x_train,np.ones((m,1))),axis=1)\n",
    "y_train = np.reshape(y_train,(m,1))"
   ]
  },
  {
   "cell_type": "code",
   "execution_count": null,
   "metadata": {},
   "outputs": [],
   "source": []
  },
  {
   "cell_type": "code",
   "execution_count": 108,
   "metadata": {
    "collapsed": true
   },
   "outputs": [],
   "source": [
    "m, n = x_loss.shape\n",
    "x_loss = np.concatenate((x_loss,np.ones((m,1))),axis=1)\n",
    "y_loss = np.reshape(y_loss,(m,1))\n"
   ]
  },
  {
   "cell_type": "code",
   "execution_count": 109,
   "metadata": {},
   "outputs": [],
   "source": [
    "f = 0.8 #factor initialization\n",
    "lr = 0.0008 # lr = learning rate initialization\n",
    "W = np.zeros((n + 1,1))\n",
    "train_loss = [] #train loss array initialization\n",
    "test_loss = [] #validation loss array initialization\n",
    "total_iteration = 200 #total no of iteration\n",
    "for i in range(total_iteration):\n",
    "    diff = np.dot(x_train,W) - y_train \n",
    "    g = f * W + np.dot(x_train.transpose(),diff) # g = gradient , fa = factor \n",
    "    g = -g \n",
    "    W = W + lr * g # update the parameters\n",
    "    \n",
    "    predict = np.dot(x_train,W) # predict under the train set\n",
    "    loss_train = np.average(np.abs(predict-y_train)) #calculate the absolute differences\n",
    "    train_loss.append(loss_train)\n",
    "    \n",
    "    predict = np.dot(x_loss,W) #predict under the validation set\n",
    "    loss_test = np.average(np.abs(predict-y_loss)) #calculate the absolute differences\n",
    "    test_loss.append(loss_test)"
   ]
  },
  {
   "cell_type": "code",
   "execution_count": 110,
   "metadata": {},
   "outputs": [
    {
     "data": {
      "text/plain": [
       "Text(0.5,1,'Linear Regression and Gradient Descent')"
      ]
     },
     "execution_count": 110,
     "metadata": {},
     "output_type": "execute_result"
    },
    {
     "data": {
      "image/png": "[encoded data removed]",
      "text/plain": [
       "<matplotlib.figure.Figure at 0xace1c50>"
      ]
     },
     "metadata": {},
     "output_type": "display_data"
    }
   ],
   "source": [
    "%matplotlib inline\n",
    "import matplotlib.pyplot as plt \n",
    "\n",
    "epoches = range(len(train_loss))\n",
    "plt.figure(figsize=(18,6))\n",
    "plt.plot(epoches,train_loss,\"-\",color=\"r\",label=\"train loss\") \n",
    "plt.plot(epoches,test_loss,\"-\",color=\"b\",label=\"validation loss\") \n",
    "plt.xlabel(\"iteration\")\n",
    "plt.ylabel(\"loss\")\n",
    "plt.legend()\n",
    "plt.title(\"Linear Regression and Gradient Descent\")"
   ]
  }
 ],
 "metadata": {
  "kernelspec": {
   "display_name": "Python 3",
   "language": "python",
   "name": "python3"
  },
  "language_info": {
   "codemirror_mode": {
    "name": "ipython",
    "version": 3
   },
   "file_extension": ".py",
   "mimetype": "text/x-python",
   "name": "python",
   "nbconvert_exporter": "python",
   "pygments_lexer": "ipython3",
   "version": "3.6.3"
  }
 },
 "nbformat": 4,
 "nbformat_minor": 2
}
